{
 "cells": [
  {
   "cell_type": "markdown",
   "metadata": {},
   "source": [
    "# TensorFlow Basics"
   ]
  },
  {
   "cell_type": "markdown",
   "metadata": {},
   "source": [
    "### Importing TensorFlow and Checking the Version"
   ]
  },
  {
   "cell_type": "code",
   "execution_count": null,
   "metadata": {},
   "outputs": [],
   "source": [
    "import tensorflow as tf\n",
    "tf.__version__"
   ]
  },
  {
   "cell_type": "markdown",
   "metadata": {},
   "source": [
    "### Tensor"
   ]
  },
  {
   "cell_type": "markdown",
   "metadata": {},
   "source": [
    "The central unit of data in TensorFlow is the tensor. A tensor consists of a set of primitive values shaped into an array of any number of dimensions. A tensor's rank is its number of dimensions, while its shape is a tuple of integers specifying the array's length along each dimension. Here are some examples of tensor values:"
   ]
  },
  {
   "cell_type": "raw",
   "metadata": {},
   "source": [
    "3. # a rank 0 tensor; a scalar with shape [],\n",
    "[1., 2., 3.] # a rank 1 tensor; a vector with shape [3]\n",
    "[[1., 2., 3.], [4., 5., 6.]] # a rank 2 tensor; a matrix with shape [2, 3]\n",
    "[[[1., 2., 3.]], [[7., 8., 9.]]] # a rank 3 tensor with shape [2, 1, 3]"
   ]
  },
  {
   "cell_type": "markdown",
   "metadata": {},
   "source": [
    "![Tensors](images/tensors.png)"
   ]
  },
  {
   "cell_type": "code",
   "execution_count": null,
   "metadata": {},
   "outputs": [],
   "source": [
    "tensor_a = tf.constant([[4,5,6],[1,3,5],[3,1,3]],shape=[3,3], dtype =tf.float32 ,name='tensor_a')"
   ]
  },
  {
   "cell_type": "code",
   "execution_count": null,
   "metadata": {
    "scrolled": true
   },
   "outputs": [],
   "source": [
    "# getting tensor shape  \n",
    "tensor_a.get_shape()"
   ]
  },
  {
   "cell_type": "markdown",
   "metadata": {},
   "source": [
    "### Computational Graph"
   ]
  },
  {
   "cell_type": "markdown",
   "metadata": {},
   "source": [
    "Let's build a simple computational graph. The most basic operation is a constant. The Python function that builds the operation takes a tensor value as input. The resulting operation takes no inputs. When run, it outputs the value that was passed to the constructor. We can create two floating point constants a and b as follows:"
   ]
  },
  {
   "cell_type": "code",
   "execution_count": null,
   "metadata": {},
   "outputs": [],
   "source": [
    "tf.reset_default_graph()"
   ]
  },
  {
   "cell_type": "code",
   "execution_count": null,
   "metadata": {
    "scrolled": true
   },
   "outputs": [],
   "source": [
    "node1 = tf.constant(3.0, dtype=tf.float32)\n",
    "node2 = tf.constant(4.0) # also tf.float32 implicitly\n",
    "print(node1)\n",
    "print(node2)"
   ]
  },
  {
   "cell_type": "markdown",
   "metadata": {},
   "source": [
    "### Session"
   ]
  },
  {
   "cell_type": "markdown",
   "metadata": {},
   "source": [
    "Some configurations for the session:"
   ]
  },
  {
   "cell_type": "code",
   "execution_count": null,
   "metadata": {},
   "outputs": [],
   "source": [
    "config = tf.ConfigProto()\n",
    "config.gpu_options.allow_growth=True"
   ]
  },
  {
   "cell_type": "markdown",
   "metadata": {},
   "source": [
    "Create a Session object for running TensorFlow operations:"
   ]
  },
  {
   "cell_type": "code",
   "execution_count": null,
   "metadata": {},
   "outputs": [],
   "source": [
    "sess = tf.Session(config=config)"
   ]
  },
  {
   "cell_type": "markdown",
   "metadata": {},
   "source": [
    "The log from invoking tf.Session() will show you some of the following details:"
   ]
  },
  {
   "cell_type": "raw",
   "metadata": {},
   "source": [
    "2018-05-04 10:48:05.629345: I T:\\src\\github\\tensorflow\\tensorflow\\core\\common_runtime\\gpu\\gpu_device.cc:1041] Created TensorFlow device (/job:localhost/replica:0/task:0/device:GPU:0 with 4740 MB memory) -> physical GPU (device: 0, name: Quadro P3000, pci bus id: 0000:01:00.0, compute capability: 6.1)\n",
    "Device mapping:\n",
    "/job:localhost/replica:0/task:0/device:GPU:0 -> device: 0, name: Quadro P3000, pci bus id: 0000:01:00.0, compute capability: 6.1\n",
    "\n",
    "2018-05-04 10:48:05.632822: I T:\\src\\github\\tensorflow\\tensorflow\\core\\common_runtime\\direct_session.cc:297] Device mapping:\n",
    "/job:localhost/replica:0/task:0/device:GPU:0 -> device: 0, name: Quadro P3000, pci bus id: 0000:01:00.0, compute capability: 6.1"
   ]
  },
  {
   "cell_type": "markdown",
   "metadata": {},
   "source": [
    "Use sess.run to run through the calculations in the computational graph."
   ]
  },
  {
   "cell_type": "code",
   "execution_count": null,
   "metadata": {
    "scrolled": true
   },
   "outputs": [],
   "source": [
    "print(sess.run([node1,node2]))"
   ]
  },
  {
   "cell_type": "markdown",
   "metadata": {},
   "source": [
    "### Add operation"
   ]
  },
  {
   "cell_type": "code",
   "execution_count": null,
   "metadata": {
    "scrolled": false
   },
   "outputs": [],
   "source": [
    "node3 = tf.add(node1, node2)\n",
    "print(node3)"
   ]
  },
  {
   "cell_type": "code",
   "execution_count": null,
   "metadata": {
    "scrolled": false
   },
   "outputs": [],
   "source": [
    "print(sess.run(node3))"
   ]
  },
  {
   "cell_type": "code",
   "execution_count": null,
   "metadata": {},
   "outputs": [],
   "source": [
    "graph = tf.get_default_graph()\n",
    "#Examining our operations\n",
    "operations = graph.get_operations()\n",
    "for operation in operations:\n",
    "    print(operation.name,\" \", operation.type)"
   ]
  },
  {
   "cell_type": "code",
   "execution_count": null,
   "metadata": {},
   "outputs": [],
   "source": [
    "operations[-1].node_def"
   ]
  },
  {
   "cell_type": "markdown",
   "metadata": {},
   "source": [
    "Operator overloading allows you to do this instead:"
   ]
  },
  {
   "cell_type": "code",
   "execution_count": null,
   "metadata": {
    "scrolled": false
   },
   "outputs": [],
   "source": [
    "print(sess.run(node1 + node2))"
   ]
  },
  {
   "cell_type": "markdown",
   "metadata": {},
   "source": [
    "### TensorBoard"
   ]
  },
  {
   "cell_type": "markdown",
   "metadata": {},
   "source": [
    "TensorFlow provides a utility called TensorBoard. One of TensorBoard's many capabilities is visualizing a computation graph. You can easily do this with a few simple commands.\n",
    "\n",
    "First you save the computation graph to a TensorBoard summary file as follows:"
   ]
  },
  {
   "cell_type": "code",
   "execution_count": null,
   "metadata": {},
   "outputs": [],
   "source": [
    "writer = tf.summary.FileWriter('./logs')\n",
    "writer.add_graph(tf.get_default_graph())\n",
    "writer.close()"
   ]
  },
  {
   "cell_type": "markdown",
   "metadata": {},
   "source": [
    "This will produce an event file in the current directory with a name in the following format:"
   ]
  },
  {
   "cell_type": "raw",
   "metadata": {},
   "source": [
    "events.out.tfevents.{timestamp}.{hostname}"
   ]
  },
  {
   "cell_type": "markdown",
   "metadata": {},
   "source": [
    "Now, in a new terminal, launch TensorBoard with the following shell command:"
   ]
  },
  {
   "cell_type": "raw",
   "metadata": {},
   "source": [
    "tensorboard --logdir ./logs"
   ]
  },
  {
   "cell_type": "markdown",
   "metadata": {},
   "source": [
    "Then open TensorBoard's graphs page in your browser, and you should see a graph similar to the following:"
   ]
  },
  {
   "cell_type": "markdown",
   "metadata": {},
   "source": [
    "![Add](images/getting_started_add.png)"
   ]
  },
  {
   "cell_type": "markdown",
   "metadata": {},
   "source": [
    "### Placeholder"
   ]
  },
  {
   "cell_type": "markdown",
   "metadata": {},
   "source": [
    "As it stands, this graph is not especially interesting because it always produces a constant result. A graph can be parameterized to accept external inputs, known as placeholders. A placeholder is a promise to provide a value later, like a function argument."
   ]
  },
  {
   "cell_type": "code",
   "execution_count": null,
   "metadata": {},
   "outputs": [],
   "source": [
    "a = tf.placeholder(tf.float32, name=\"a\")\n",
    "b = tf.placeholder(tf.float32, name=\"b\")\n",
    "adder_node = tf.add(a, b, name=\"adder_node\")\n",
    "writer = tf.summary.FileWriter('./logs')\n",
    "writer.add_graph(tf.get_default_graph())\n",
    "writer.close()\n",
    "\n",
    "print(sess.run(adder_node, {a:3, b:4.5}))"
   ]
  },
  {
   "cell_type": "markdown",
   "metadata": {},
   "source": [
    "We can also pass in a different shape tensor:"
   ]
  },
  {
   "cell_type": "code",
   "execution_count": null,
   "metadata": {},
   "outputs": [],
   "source": [
    "print(sess.run(adder_node, feed_dict={a: [1, 3], b: [2, 4]}))"
   ]
  },
  {
   "cell_type": "code",
   "execution_count": null,
   "metadata": {
    "scrolled": true
   },
   "outputs": [],
   "source": [
    "add_and_triple = adder_node * 3\n",
    "writer = tf.summary.FileWriter('./logs')\n",
    "writer.add_graph(tf.get_default_graph())\n",
    "writer.close()\n",
    "\n",
    "print(sess.run(add_and_triple, feed_dict={a: [1, 3], b: [2, 4]}))"
   ]
  },
  {
   "cell_type": "markdown",
   "metadata": {},
   "source": [
    "### Close the TensorFlow Session"
   ]
  },
  {
   "cell_type": "markdown",
   "metadata": {},
   "source": [
    "Close the TensorFlow Session to release CPU/GPU memory."
   ]
  },
  {
   "cell_type": "code",
   "execution_count": null,
   "metadata": {},
   "outputs": [],
   "source": [
    "sess.close()"
   ]
  },
  {
   "cell_type": "markdown",
   "metadata": {},
   "source": [
    "### Summary so far"
   ]
  },
  {
   "cell_type": "markdown",
   "metadata": {},
   "source": [
    "To summarize what we have seen so far in a single cell, restart the kernel (Command: 0,0) and the run the following:"
   ]
  },
  {
   "cell_type": "code",
   "execution_count": null,
   "metadata": {},
   "outputs": [],
   "source": [
    "import tensorflow as tf\n",
    "\n",
    "a = tf.placeholder(tf.float32, name=\"input_a\")\n",
    "b = tf.placeholder(tf.float32, name=\"input_b\")\n",
    "c = tf.multiply(a, b, name=\"multiply_c\")\n",
    "d = tf.add(a, b, name=\"add_d\")\n",
    "e = tf.add(c, d, name=\"add_e\")\n",
    "\n",
    "config = tf.ConfigProto()\n",
    "config.gpu_options.allow_growth=True\n",
    "\n",
    "sess = tf.Session(config=config)\n",
    "output = sess.run(e,feed_dict={a: [1, 3], b: [2, 4]})\n",
    "writer = tf.summary.FileWriter('./my_graph')\n",
    "writer.add_graph(sess.graph) #or writer.add_graph(tf.get_default_graph()) is ok because you are only running 1 Session\n",
    "writer.close()\n",
    "sess.close()\n",
    "\n",
    "print(output)"
   ]
  },
  {
   "cell_type": "markdown",
   "metadata": {},
   "source": [
    "Run TensorBoard in your terminal:"
   ]
  },
  {
   "cell_type": "raw",
   "metadata": {},
   "source": [
    " tensorboard --logdir ./my_graph"
   ]
  },
  {
   "cell_type": "markdown",
   "metadata": {},
   "source": [
    "You can use the ContextManager syntax instead of having to close the session. Restart the kernel (Command: 0,0) before running the following:"
   ]
  },
  {
   "cell_type": "code",
   "execution_count": null,
   "metadata": {},
   "outputs": [],
   "source": [
    "import tensorflow as tf\n",
    "a = tf.placeholder(tf.float32, name=\"input_a\")\n",
    "b = tf.placeholder(tf.float32, name=\"input_b\")\n",
    "c = tf.multiply(a, b, name=\"multiply_c\")\n",
    "d = tf.add(a, b, name=\"add_d\")\n",
    "e = tf.add(c, d, name=\"add_e\")\n",
    "\n",
    "config = tf.ConfigProto()\n",
    "config.gpu_options.allow_growth=True\n",
    "\n",
    "with tf.Session(config=config) as sess:\n",
    "    output = sess.run(e,feed_dict={a: [1, 3], b: [2, 4]})\n",
    "    with tf.summary.FileWriter('./my_graph') as writer:\n",
    "        writer.add_graph(sess.graph)\n",
    "\n",
    "print(output)"
   ]
  },
  {
   "cell_type": "markdown",
   "metadata": {},
   "source": [
    "### Train a Linear Regression Model"
   ]
  },
  {
   "cell_type": "markdown",
   "metadata": {},
   "source": [
    "Restart the kernel (Command: 0,0)."
   ]
  },
  {
   "cell_type": "markdown",
   "metadata": {},
   "source": [
    "A linear model can expressed as $y = Wx + b$, where $y\\in\\mathbb{R}^M$ is the output vector, $W\\in\\mathbb{R}^{M\\times N}$ is a weight matrix, $x\\in\\mathbb{R}^N$ is the input vector and $b\\in\\mathbb{R}^M$ is the bias vector.\n",
    "\n",
    "In this example, we will stick to $M=N=1$ to simply demonstrate how training is done in TensorFlow."
   ]
  },
  {
   "cell_type": "code",
   "execution_count": 1,
   "metadata": {
    "scrolled": true
   },
   "outputs": [
    {
     "name": "stderr",
     "output_type": "stream",
     "text": [
      "C:\\Users\\WF4\\Anaconda3\\envs\\tf18_py36\\lib\\site-packages\\h5py\\__init__.py:36: FutureWarning: Conversion of the second argument of issubdtype from `float` to `np.floating` is deprecated. In future, it will be treated as `np.float64 == np.dtype(float).type`.\n",
      "  from ._conv import register_converters as _register_converters\n"
     ]
    }
   ],
   "source": [
    "import tensorflow as tf\n",
    "import numpy as np\n",
    "W = tf.Variable([.3], tf.float32, name=\"weights\")\n",
    "b = tf.Variable([-.3], tf.float32, name=\"bias\")\n",
    "x = tf.placeholder(tf.float32, name=\"input\")\n",
    "linear_model = W * x + b"
   ]
  },
  {
   "cell_type": "markdown",
   "metadata": {},
   "source": [
    "Variables need to be initialised using the global_variables_initializer() instance."
   ]
  },
  {
   "cell_type": "code",
   "execution_count": 2,
   "metadata": {},
   "outputs": [],
   "source": [
    "init = tf.global_variables_initializer()\n",
    "\n",
    "config = tf.ConfigProto()\n",
    "config.gpu_options.allow_growth=True\n",
    "sess = tf.Session(config=config)\n",
    "\n",
    "sess.run(init)"
   ]
  },
  {
   "cell_type": "markdown",
   "metadata": {},
   "source": [
    "Let us see the predicted values from the model with its initial variables:"
   ]
  },
  {
   "cell_type": "code",
   "execution_count": 3,
   "metadata": {
    "scrolled": true
   },
   "outputs": [
    {
     "name": "stdout",
     "output_type": "stream",
     "text": [
      "[0.         0.3        0.6        0.90000004]\n"
     ]
    }
   ],
   "source": [
    "x_data = [1,2,3,4]\n",
    "y_actual = [0,-1,-2,-3]\n",
    "\n",
    "y_pred = sess.run(linear_model, {x:x_data})\n",
    "print(y_pred)"
   ]
  },
  {
   "cell_type": "code",
   "execution_count": 4,
   "metadata": {},
   "outputs": [
    {
     "name": "stdout",
     "output_type": "stream",
     "text": [
      "23.660002\n"
     ]
    }
   ],
   "source": [
    "y = tf.placeholder(tf.float32, name=\"actual\")\n",
    "squared_deltas = tf.square(linear_model - y)\n",
    "loss = tf.reduce_sum(squared_deltas)\n",
    "\n",
    "print(sess.run(loss, feed_dict=\n",
    "              {x:x_data, \n",
    "               y:y_actual}))"
   ]
  },
  {
   "cell_type": "markdown",
   "metadata": {},
   "source": [
    "The loss calculates the closeness of our predictions to the actual data. Let's plot the data out!"
   ]
  },
  {
   "cell_type": "code",
   "execution_count": 5,
   "metadata": {},
   "outputs": [
    {
     "data": {
      "image/png": "[encoded data removed]",
      "text/plain": [
       "<Figure size 432x288 with 1 Axes>"
      ]
     },
     "metadata": {},
     "output_type": "display_data"
    }
   ],
   "source": [
    "%matplotlib inline\n",
    "import matplotlib\n",
    "import matplotlib.pyplot as plt\n",
    "\n",
    "fig, ax = plt.subplots()\n",
    "ax.plot(x_data, y_pred, 'bo-', label='Predicted')\n",
    "ax.plot(x_data, y_actual, 'rx', label='Data')\n",
    "ax.set_xlabel('x')\n",
    "ax.set_ylabel('y')\n",
    "ax.legend()\n",
    "plt.show()"
   ]
  },
  {
   "cell_type": "markdown",
   "metadata": {},
   "source": [
    "Let us assign the variables their correct values and check the loss and plot the data."
   ]
  },
  {
   "cell_type": "code",
   "execution_count": 6,
   "metadata": {},
   "outputs": [
    {
     "name": "stdout",
     "output_type": "stream",
     "text": [
      "[array([-1.], dtype=float32), array([1.], dtype=float32)]\n",
      "0.0\n",
      "[ 0. -1. -2. -3.]\n"
     ]
    }
   ],
   "source": [
    "fixW = tf.assign(W, [-1.])\n",
    "fixb = tf.assign(b, [1.])\n",
    "print(sess.run([fixW, fixb]))\n",
    "print(sess.run(loss, feed_dict=\n",
    "               {x:x_data,\n",
    "                y:y_actual}))\n",
    "y_pred_correct = sess.run(linear_model, {x:[1,2,3,4]})\n",
    "print(y_pred_correct)"
   ]
  },
  {
   "cell_type": "code",
   "execution_count": 7,
   "metadata": {},
   "outputs": [
    {
     "data": {
      "image/png": "[encoded data removed]",
      "text/plain": [
       "<Figure size 432x288 with 1 Axes>"
      ]
     },
     "metadata": {},
     "output_type": "display_data"
    }
   ],
   "source": [
    "fig, ax = plt.subplots()\n",
    "ax.plot(x_data, y_pred_correct, 'bo-', label='Predicted')\n",
    "ax.plot(x_data, y_actual, 'rx', label='Data')\n",
    "ax.set_xlabel('x')\n",
    "ax.set_ylabel('y')\n",
    "ax.legend()\n",
    "plt.show()"
   ]
  },
  {
   "cell_type": "markdown",
   "metadata": {},
   "source": [
    "We see that the loss is 0 when the variables or weights are correct and the predicted line fits the data.\n",
    "Now, we will train the model using gradient descent."
   ]
  },
  {
   "cell_type": "code",
   "execution_count": 8,
   "metadata": {},
   "outputs": [],
   "source": [
    "learning_rate = 0.01\n",
    "optimizer = tf.train.GradientDescentOptimizer(learning_rate).minimize(loss)\n",
    "\n",
    "# intialise the variables back to the wrong values\n",
    "sess.run(init)"
   ]
  },
  {
   "cell_type": "code",
   "execution_count": 9,
   "metadata": {},
   "outputs": [
    {
     "name": "stdout",
     "output_type": "stream",
     "text": [
      "Epoch: 20 Loss= 1.006025314 W= [-0.5826169] b= [-0.22715722]\n",
      "Epoch: 40 Loss= 0.621320307 W= [-0.6719892] b= [0.03560818]\n",
      "Epoch: 60 Loss= 0.383726686 W= [-0.74222463] b= [0.24210888]\n",
      "Epoch: 80 Loss= 0.236989319 W= [-0.7974208] b= [0.4043925]\n",
      "Epoch: 100 Loss= 0.146364361 W= [-0.84079814] b= [0.53192717]\n",
      "Epoch: 120 Loss= 0.090394437 W= [-0.87488735] b= [0.6321535]\n",
      "Epoch: 140 Loss= 0.055827554 W= [-0.9016771] b= [0.71091866]\n",
      "Epoch: 160 Loss= 0.034479067 W= [-0.9227305] b= [0.77281827]\n",
      "Epoch: 180 Loss= 0.021294251 W= [-0.9392758] b= [0.82146347]\n",
      "Epoch: 200 Loss= 0.013151320 W= [-0.95227844] b= [0.8596927]\n",
      "Epoch: 220 Loss= 0.008122250 W= [-0.9624968] b= [0.88973594]\n",
      "Epoch: 240 Loss= 0.005016298 W= [-0.9705272] b= [0.91334623]\n",
      "Epoch: 260 Loss= 0.003098064 W= [-0.976838] b= [0.931901]\n",
      "Epoch: 280 Loss= 0.001913364 W= [-0.9817976] b= [0.94648266]\n",
      "Epoch: 300 Loss= 0.001181682 W= [-0.98569524] b= [0.95794225]\n",
      "Epoch: 320 Loss= 0.000729801 W= [-0.98875827] b= [0.9669479]\n",
      "Epoch: 340 Loss= 0.000450724 W= [-0.99116546] b= [0.97402525]\n",
      "Epoch: 360 Loss= 0.000278366 W= [-0.9930572] b= [0.9795872]\n",
      "Epoch: 380 Loss= 0.000171918 W= [-0.9945438] b= [0.98395807]\n",
      "Epoch: 400 Loss= 0.000106178 W= [-0.99571204] b= [0.98739296]\n",
      "Epoch: 420 Loss= 0.000065574 W= [-0.99663025] b= [0.9900925]\n",
      "Epoch: 440 Loss= 0.000040499 W= [-0.99735177] b= [0.99221396]\n",
      "Epoch: 460 Loss= 0.000025013 W= [-0.99791884] b= [0.9938811]\n",
      "Epoch: 480 Loss= 0.000015448 W= [-0.99836445] b= [0.99519134]\n",
      "Epoch: 500 Loss= 0.000009541 W= [-0.9987147] b= [0.99622095]\n",
      "\n",
      "Optimisation finished!\n",
      "Training Loss= 0.000009541 W= [-0.9987147] b= [0.99622095]\n"
     ]
    }
   ],
   "source": [
    "num_epoches = 500\n",
    "display_step = 20\n",
    "for epoch in range(num_epoches):\n",
    "    sess.run(optimizer, feed_dict={x:x_data, y:y_actual})\n",
    "    if (epoch+1) % display_step == 0:\n",
    "        current_loss, current_W, current_b = sess.run([loss, W, b], feed_dict={x:x_data, y:y_actual})\n",
    "        print('Epoch:', '{}'.format(epoch+1), 'Loss=', '{:.9f}'.format(current_loss), \\\n",
    "              'W=', '{}'.format(current_W), 'b=', '{}'.format(current_b))\n",
    "print('\\nOptimisation finished!')\n",
    "final_loss = sess.run(loss, feed_dict={x:x_data, y:y_actual})\n",
    "print('Training Loss=', '{:.9f}'.format(final_loss), \\\n",
    "      'W=', '{}'.format(sess.run(W)), 'b=', '{}'.format(sess.run(b)))\n",
    "with tf.summary.FileWriter('./my_linear_model') as writer:\n",
    "    writer.add_graph(sess.graph)\n",
    "sess.close()"
   ]
  },
  {
   "cell_type": "markdown",
   "metadata": {},
   "source": [
    "We can see that the trained $W$ and $b$ are close to the actual values."
   ]
  },
  {
   "cell_type": "markdown",
   "metadata": {},
   "source": [
    "Run TensorBoard in your terminal to see the computational graph."
   ]
  },
  {
   "cell_type": "raw",
   "metadata": {},
   "source": [
    "tensorboard --logdir ./my_linear_model"
   ]
  },
  {
   "cell_type": "markdown",
   "metadata": {},
   "source": [
    "You should see the following graph."
   ]
  },
  {
   "cell_type": "markdown",
   "metadata": {},
   "source": [
    "![Add](images/linear_model.png)"
   ]
  }
 ],
 "metadata": {
  "kernelspec": {
   "display_name": "Python 3",
   "language": "python",
   "name": "python3"
  },
  "language_info": {
   "codemirror_mode": {
    "name": "ipython",
    "version": 3
   },
   "file_extension": ".py",
   "mimetype": "text/x-python",
   "name": "python",
   "nbconvert_exporter": "python",
   "pygments_lexer": "ipython3",
   "version": "3.6.5"
  }
 },
 "nbformat": 4,
 "nbformat_minor": 2
}
