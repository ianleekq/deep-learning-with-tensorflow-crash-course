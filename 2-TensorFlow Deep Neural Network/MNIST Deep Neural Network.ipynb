{
 "cells": [
  {
   "cell_type": "markdown",
   "metadata": {},
   "source": [
    "## TensorFlow Deep Neural Network Demo"
   ]
  },
  {
   "cell_type": "markdown",
   "metadata": {},
   "source": [
    "This notebook is based on the material in https://github.com/samwit/TensorFlowTalks/tree/master/Talk01_introduction_to_TF.\n",
    "A similar example from Google is found at https://github.com/tensorflow/tensorflow/blob/r1.8/tensorflow/examples/tutorials/mnist/mnist_with_summaries.py."
   ]
  },
  {
   "cell_type": "markdown",
   "metadata": {},
   "source": [
    "### Import TensorFlow"
   ]
  },
  {
   "cell_type": "code",
   "execution_count": 1,
   "metadata": {
    "scrolled": true
   },
   "outputs": [
    {
     "name": "stderr",
     "output_type": "stream",
     "text": [
      "C:\\Users\\WF4\\Anaconda3\\envs\\tf18_py36\\lib\\site-packages\\h5py\\__init__.py:36: FutureWarning: Conversion of the second argument of issubdtype from `float` to `np.floating` is deprecated. In future, it will be treated as `np.float64 == np.dtype(float).type`.\n",
      "  from ._conv import register_converters as _register_converters\n"
     ]
    }
   ],
   "source": [
    "import tensorflow as tf\n",
    "tf.__version__\n",
    "tf.logging.set_verbosity(tf.logging.ERROR)"
   ]
  },
  {
   "cell_type": "markdown",
   "metadata": {},
   "source": [
    "### MNIST Model with Pure TensorFlow"
   ]
  },
  {
   "cell_type": "code",
   "execution_count": 2,
   "metadata": {},
   "outputs": [],
   "source": [
    "%matplotlib inline\n",
    "import matplotlib.pyplot as plt\n",
    "import numpy as np"
   ]
  },
  {
   "cell_type": "code",
   "execution_count": 3,
   "metadata": {},
   "outputs": [
    {
     "name": "stdout",
     "output_type": "stream",
     "text": [
      "Extracting data/mnist/train-images-idx3-ubyte.gz\n",
      "Extracting data/mnist/train-labels-idx1-ubyte.gz\n",
      "Extracting data/mnist/t10k-images-idx3-ubyte.gz\n",
      "Extracting data/mnist/t10k-labels-idx1-ubyte.gz\n"
     ]
    }
   ],
   "source": [
    "# Import MNIST from TF Examples\n",
    "from tensorflow.examples.tutorials.mnist import input_data\n",
    "mnist = input_data.read_data_sets(\"data/mnist/\", one_hot=True)\n",
    "\n",
    "# Load data\n",
    "X_train = mnist.train.images\n",
    "Y_train = mnist.train.labels\n",
    "X_test = mnist.test.images\n",
    "Y_test = mnist.test.labels"
   ]
  },
  {
   "cell_type": "code",
   "execution_count": 4,
   "metadata": {},
   "outputs": [
    {
     "name": "stdout",
     "output_type": "stream",
     "text": [
      "(55000, 784)\n",
      "(55000, 10)\n",
      "(10000, 784)\n",
      "(10000, 10)\n"
     ]
    }
   ],
   "source": [
    "print(X_train.shape)\n",
    "print(Y_train.shape)\n",
    "print(X_test.shape)\n",
    "print(Y_test.shape)"
   ]
  },
  {
   "cell_type": "markdown",
   "metadata": {
    "scrolled": true
   },
   "source": [
    "### MNIST Image Tensor X_train\n",
    "\n",
    "<img src=\"./images/xtrain_tensor.png\" style=\"width:550px;\">\n",
    "<img src=\"./images/xtrain_flat.png\" style=\"width:550px;\">"
   ]
  },
  {
   "cell_type": "code",
   "execution_count": 5,
   "metadata": {},
   "outputs": [
    {
     "data": {
      "image/png": "[encoded data removed]",
      "text/plain": [
       "<Figure size 432x288 with 1 Axes>"
      ]
     },
     "metadata": {},
     "output_type": "display_data"
    },
    {
     "data": {
      "image/png": "[encoded data removed]",
      "text/plain": [
       "<Figure size 432x288 with 1 Axes>"
      ]
     },
     "metadata": {},
     "output_type": "display_data"
    },
    {
     "data": {
      "image/png": "[encoded data removed]",
      "text/plain": [
       "<Figure size 432x288 with 1 Axes>"
      ]
     },
     "metadata": {},
     "output_type": "display_data"
    }
   ],
   "source": [
    "# Method for displaying the number as a picture\n",
    "\n",
    "def show_digit(index):\n",
    "    label = Y_train[index].argmax(axis=0)\n",
    "    # Reshape 784 array into 28x28 image\n",
    "    image = X_train[index].reshape([28,28])\n",
    "    fig, axes = plt.subplots(1, )\n",
    "    fig.subplots_adjust(hspace=0.5, wspace=0.5)\n",
    "    plt.title('Training data, index: %d,  Label: %d' % (index, label))\n",
    "    plt.imshow(image, cmap='gray')\n",
    "    plt.show()\n",
    "    \n",
    "def show_predicted_digit(image, pred, label):\n",
    "    # Reshape 784 array into 28x28 image\n",
    "    image = image.reshape([28,28])\n",
    "    plt.title('Original Image, Pred: %d,  True Label: %d' %(pred, label))\n",
    "    plt.imshow(image, cmap='gray')\n",
    "    plt.show()\n",
    "    \n",
    "# Display the first (index 0) training image\n",
    "show_digit(1)\n",
    "show_digit(2)\n",
    "show_digit(3)"
   ]
  },
  {
   "cell_type": "code",
   "execution_count": 7,
   "metadata": {},
   "outputs": [
    {
     "data": {
      "image/png": "[encoded data removed]",
      "text/plain": [
       "<Figure size 432x288 with 1 Axes>"
      ]
     },
     "metadata": {},
     "output_type": "display_data"
    }
   ],
   "source": [
    "# Show the distribution of classes in MNIST training set\n",
    "\n",
    "training_labels = np.array(np.where(Y_train==1)[1], dtype='float32')\n",
    "labels, counts = np.unique(training_labels, return_counts=True)\n",
    "plt.bar(labels, counts, align='center')\n",
    "plt.xticks(range(10))\n",
    "plt.xlabel('Class')\n",
    "plt.ylabel('Count')\n",
    "plt.show()"
   ]
  },
  {
   "cell_type": "markdown",
   "metadata": {},
   "source": [
    "#### Batching allows TF to streamline a computation for the processors eg. GPU"
   ]
  },
  {
   "cell_type": "code",
   "execution_count": 8,
   "metadata": {},
   "outputs": [],
   "source": [
    "# Create a batch of 64 images and their labels\n",
    "batch_X, batch_Y = mnist.train.next_batch(64)"
   ]
  },
  {
   "cell_type": "code",
   "execution_count": 11,
   "metadata": {},
   "outputs": [
    {
     "data": {
      "text/plain": [
       "(64, 784)"
      ]
     },
     "execution_count": 11,
     "metadata": {},
     "output_type": "execute_result"
    }
   ],
   "source": [
    "batch_X.shape"
   ]
  },
  {
   "cell_type": "markdown",
   "metadata": {},
   "source": [
    "<img src=\"images/nn.gif\" style=\"width:500px;\">"
   ]
  },
  {
   "cell_type": "markdown",
   "metadata": {},
   "source": [
    "### Setting up our Network Hyper Parameters"
   ]
  },
  {
   "cell_type": "code",
   "execution_count": 12,
   "metadata": {},
   "outputs": [],
   "source": [
    "# Training Parameters for basic MNIST\n",
    "learning_rate = 0.05 \n",
    "training_epochs = 2\n",
    "batch_size = 100\n",
    "display_step = 1  # for how often to print out our results\n",
    "test_step = 50 # for how often to test our test set\n",
    "model_path = \"./models_mnist/model1.ckpt\"\n",
    "\n",
    "\n",
    "# Network Parameters\n",
    "n_input = 784 # MNIST data input (img shape: 28*28 flattened to be 784)\n",
    "n_hidden_1 = 384 # 1st layer number of neurons\n",
    "n_hidden_2 = 100 # 2nd layer number of neurons\n",
    "n_classes = 10 # MNIST classes for prediction(digits 0-9 )\n",
    "normal_dist_stddev = 0.1 # Standard deviation for random sampling from normal distribution for initialisation"
   ]
  },
  {
   "cell_type": "markdown",
   "metadata": {},
   "source": [
    "### Define the inputs"
   ]
  },
  {
   "cell_type": "code",
   "execution_count": 13,
   "metadata": {},
   "outputs": [],
   "source": [
    "# Reset the graph\n",
    "tf.reset_default_graph()\n",
    "\n",
    "# tf Graph input\n",
    "with tf.name_scope('Inputs') as scope:\n",
    "    x = tf.placeholder(tf.float32, [None, n_input],name='x_input')\n",
    "    y = tf.placeholder(tf.float32, [None, n_classes],name='labels')"
   ]
  },
  {
   "cell_type": "markdown",
   "metadata": {},
   "source": [
    "### Create our deep neural network model"
   ]
  },
  {
   "cell_type": "code",
   "execution_count": 14,
   "metadata": {},
   "outputs": [],
   "source": [
    "# Create model\n",
    "def multilayer_perceptron(x):\n",
    "    \n",
    "    with tf.name_scope('hidden_01') as scope:\n",
    "        # Hidden layer 01 with RELU activation\n",
    "        \n",
    "        #weights and bias tensor\n",
    "        h1weight = tf.Variable(tf.truncated_normal([n_input, n_hidden_1],stddev=normal_dist_stddev),name='h1_weights')\n",
    "        h1bias = tf.Variable(tf.truncated_normal([n_hidden_1],stddev=normal_dist_stddev),name='b1_bias')\n",
    "        \n",
    "        #hidden layer 01 Ops\n",
    "        layer_1 = tf.add(tf.matmul(x, h1weight), h1bias,name='Layer1_matmul')  # adding (x•w1) + bias1)\n",
    "        layer_1 = tf.nn.relu(layer_1, name='Layer1_Relu') #activation Relu passes anything above 0 and blocks negative\n",
    "        \n",
    "        #tensorboard histograms for layer 01\n",
    "        tf.summary.histogram('weights_h1',h1weight)\n",
    "        tf.summary.histogram('bias_h1',h1bias)\n",
    "        \n",
    "    with tf.name_scope('hidden_02') as scope:\n",
    "        # Hidden layer 02 with RELU activation\n",
    "        h2weights = tf.Variable(tf.truncated_normal([n_hidden_1, n_hidden_2],stddev=normal_dist_stddev),name='h2_weights')\n",
    "        h2bias = tf.Variable(tf.truncated_normal([n_hidden_2],stddev=normal_dist_stddev),name='b2_bias')\n",
    "        \n",
    "        layer_2 = tf.add(tf.matmul(layer_1, h2weights), h2bias,name='Layer2_add')\n",
    "        layer_2 = tf.nn.relu(layer_2, name='Layer2_Relu')\n",
    "        #tensorboard histograms\n",
    "        tf.summary.histogram('weights_h2',h2weights)\n",
    "        tf.summary.histogram('bias_h2',h2bias)\n",
    "        \n",
    "    with tf.name_scope('output_layer') as scope:\n",
    "        # Logits layer with linear activation\n",
    "        output_weights = tf.Variable(tf.truncated_normal([n_hidden_2, n_classes],stddev=normal_dist_stddev),name='output_weights')\n",
    "        output_bias = tf.Variable(tf.truncated_normal([n_classes],stddev=normal_dist_stddev),name='out_bias')\n",
    "        \n",
    "        logits_layer = tf.add(tf.matmul(layer_2, output_weights), output_bias,name='logits')\n",
    "\n",
    "    return logits_layer"
   ]
  },
  {
   "cell_type": "markdown",
   "metadata": {},
   "source": [
    "### Logits are the unscaled outputs of a neural network"
   ]
  },
  {
   "cell_type": "code",
   "execution_count": 15,
   "metadata": {},
   "outputs": [],
   "source": [
    "logits = multilayer_perceptron(x)"
   ]
  },
  {
   "cell_type": "markdown",
   "metadata": {},
   "source": [
    "### Define the loss function, optimizer and outputs"
   ]
  },
  {
   "cell_type": "code",
   "execution_count": 16,
   "metadata": {},
   "outputs": [],
   "source": [
    "# Define loss and optimizer\n",
    "with tf.name_scope('cross_entropy'):\n",
    "    loss = tf.reduce_mean(tf.nn.softmax_cross_entropy_with_logits(labels= y, logits=logits ))   #compute the error against the correct results\n",
    "\n",
    "with tf.name_scope('train'):    \n",
    "    optimizer = tf.train.AdamOptimizer(learning_rate=learning_rate).minimize(loss) # optimizer makes changes to the weights and bias to reduce loss\n",
    "    #optimizer = tf.train.GradientDescentOptimizer(learning_rate=learning_rate).minimize(loss)\n",
    "\n",
    "with tf.name_scope('accuracy'):\n",
    "    correct_prediction = tf.equal(tf.argmax(logits,1),tf.argmax(y,1))\n",
    "    accuracy = tf.reduce_mean(tf.cast(correct_prediction,tf.float32))\n",
    "    \n",
    "with tf.name_scope('prediction'):\n",
    "    pred_label = tf.argmax(logits, 1, name='out_argmax')\n",
    "    pred_probs = tf.nn.softmax(logits, name='out_softmax')\n",
    "    pred_prob_top = tf.reduce_max(pred_probs, 1, name='out_softmax_argmax')"
   ]
  },
  {
   "cell_type": "code",
   "execution_count": 17,
   "metadata": {},
   "outputs": [],
   "source": [
    "# Initializing the variables\n",
    "init = tf.global_variables_initializer()\n",
    "\n",
    "# Define and merge performance measures for TensorBoard graphs\n",
    "tf.summary.scalar(\"accuracy\", accuracy)\n",
    "tf.summary.scalar(\"loss\", loss)\n",
    "summary_op = tf.summary.merge_all()\n",
    "\n",
    "# 'Saver' op to save and restore all the variables\n",
    "saver = tf.train.Saver()\n",
    "\n",
    "# Session Configuration\n",
    "config = tf.ConfigProto()\n",
    "config.gpu_options.allow_growth=True   # don't allow session to take up all the GPU memory"
   ]
  },
  {
   "cell_type": "markdown",
   "metadata": {},
   "source": [
    "### Run the session"
   ]
  },
  {
   "cell_type": "code",
   "execution_count": 18,
   "metadata": {
    "scrolled": true
   },
   "outputs": [
    {
     "name": "stdout",
     "output_type": "stream",
     "text": [
      "Epoch: 1 Loss = 0.531686704 Training Accuracy = 0.879727273\n",
      "Epoch: 2 Loss = 0.353804464 Training Accuracy = 0.914090912\n",
      "Optimization Finished!\n",
      "Model saved to: ./models_mnist/model1.ckpt\n",
      "Wall time: 19.2 s\n"
     ]
    }
   ],
   "source": [
    "%%time\n",
    "\n",
    "# Launch the graph\n",
    "with tf.Session(config=config) as sess:\n",
    "    # Initialize the variables in the graph\n",
    "    sess.run(init)\n",
    "    \n",
    "    train_writer = tf.summary.FileWriter('./log_mnist_dnn/train', sess.graph)\n",
    "    test_writer = tf.summary.FileWriter('./log_mnist_dnn/test', sess.graph)\n",
    "    \n",
    "    step = 0\n",
    "    # Training cycle\n",
    "    for epoch in range(training_epochs):\n",
    "        avg_cost = 0.\n",
    "        avg_accuracy = 0.\n",
    "        total_batch = int(mnist.train.num_examples/batch_size)\n",
    "\n",
    "        # Loop over all batches\n",
    "        for i in range(total_batch):\n",
    "            batch_x, batch_y = mnist.train.next_batch(batch_size)\n",
    "            # Run optimization op (backprop) and cost op (to get loss value)\n",
    "            _, c, acc, summary_train = sess.run([optimizer, loss, accuracy, summary_op], \n",
    "                                                feed_dict={x: batch_x, y: batch_y})\n",
    "            # Compute average loss\n",
    "            avg_cost += c / total_batch\n",
    "\n",
    "            # Compute average accuracy\n",
    "            avg_accuracy += acc / total_batch\n",
    "\n",
    "            # Increment step\n",
    "            step += 1\n",
    "\n",
    "            # Write to file the TensorBoard variables\n",
    "            train_writer.add_summary(summary_train, step)\n",
    "            \n",
    "            if step % test_step == 0:\n",
    "                # Insert summary of performance measures over whole test set into session\n",
    "                summary_test = sess.run(summary_op,\n",
    "                                       feed_dict={x: mnist.test.images, y: mnist.test.labels})\n",
    "                # Write to file the TensorBoard variables\n",
    "                test_writer.add_summary(summary_test, step)\n",
    "\n",
    "        # Display logs per epoch step\n",
    "        if epoch % display_step == 0:\n",
    "            print (\"Epoch:\", \"{:}\".format(epoch+1), \"Loss =\", \"{:.9f}\".format(avg_cost), \\\n",
    "                   \"Training Accuracy =\", \"{:.9f}\".format(avg_accuracy) )\n",
    "                \n",
    "    train_writer.close()\n",
    "    test_writer.close()\n",
    "    \n",
    "    print (\"Optimization Finished!\")\n",
    "    \n",
    "    # Save model weights to disk\n",
    "    save_path = saver.save(sess, model_path)\n",
    "    print (\"Model saved to: %s\" % save_path)"
   ]
  },
  {
   "cell_type": "markdown",
   "metadata": {},
   "source": [
    "Start TensorBoard in a separate terminal by copying the line below."
   ]
  },
  {
   "cell_type": "raw",
   "metadata": {},
   "source": [
    "tensorboard --logdir ./log_mnist_dnn"
   ]
  },
  {
   "cell_type": "markdown",
   "metadata": {},
   "source": [
    "### Testing against our Test Data"
   ]
  },
  {
   "cell_type": "code",
   "execution_count": null,
   "metadata": {},
   "outputs": [],
   "source": [
    "with tf.Session() as sess:\n",
    "    sess.run(init)\n",
    "    \n",
    "    # Restore model weights from previously saved model\n",
    "    load_path = saver.restore(sess, model_path)\n",
    "    print (\"Model restored from file: %s\" % model_path)\n",
    "    \n",
    "    test_accuracy, test_loss = sess.run([accuracy, loss],\n",
    "                               feed_dict={x: mnist.test.images, y: mnist.test.labels})\n",
    "    \n",
    "    \n",
    "    print (\"Test Loss =\", \"{:.9f}\".format(test_loss), \\\n",
    "            \"Test Accuracy =\", \"{:.9f}\".format(test_accuracy) )"
   ]
  },
  {
   "cell_type": "code",
   "execution_count": null,
   "metadata": {},
   "outputs": [],
   "source": [
    "def predict_image_from_test(imageNumber):\n",
    "    imvalue = X_test[imageNumber]\n",
    "    trueValue = np.argmax(Y_test[imageNumber],0)\n",
    "    with tf.Session() as sess:\n",
    "        sess.run(init)\n",
    "        # Restore model weights from previously saved model\n",
    "        load_path = saver.restore(sess, model_path)\n",
    "        # Predict model 1 image batch size = 1\n",
    "        predicted_label, predicted_probability = sess.run([pred_label, pred_prob_top], feed_dict={x: [imvalue]})\n",
    "        #show image and result\n",
    "        print(\"Prediction Probability =\", \"{:.9f}\".format(predicted_probability[0]))\n",
    "        show_predicted_digit(imvalue, predicted_label, trueValue)"
   ]
  },
  {
   "cell_type": "code",
   "execution_count": null,
   "metadata": {},
   "outputs": [],
   "source": [
    "predict_image_from_test(1000)"
   ]
  },
  {
   "cell_type": "code",
   "execution_count": null,
   "metadata": {},
   "outputs": [],
   "source": []
  }
 ],
 "metadata": {
  "kernelspec": {
   "display_name": "Python 3",
   "language": "python",
   "name": "python3"
  },
  "language_info": {
   "codemirror_mode": {
    "name": "ipython",
    "version": 3
   },
   "file_extension": ".py",
   "mimetype": "text/x-python",
   "name": "python",
   "nbconvert_exporter": "python",
   "pygments_lexer": "ipython3",
   "version": "3.6.5"
  }
 },
 "nbformat": 4,
 "nbformat_minor": 2
}
